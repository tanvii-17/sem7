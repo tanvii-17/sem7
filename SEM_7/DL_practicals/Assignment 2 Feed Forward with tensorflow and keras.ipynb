{
 "cells": [
  {
   "cell_type": "code",
   "execution_count": 1,
   "id": "0834e01d-1eae-4932-b1a2-eb8ec1272b0e",
   "metadata": {},
   "outputs": [
    {
     "name": "stderr",
     "output_type": "stream",
     "text": [
      "c:\\users\\hp\\appdata\\local\\programs\\python\\python39\\lib\\site-packages\\scipy\\__init__.py:155: UserWarning: A NumPy version >=1.18.5 and <1.25.0 is required for this version of SciPy (detected version 1.26.1\n",
      "  warnings.warn(f\"A NumPy version >={np_minversion} and <{np_maxversion}\"\n"
     ]
    }
   ],
   "source": [
    "import tensorflow as tf\n",
    "from tensorflow import keras\n",
    "import matplotlib.pyplot as plt\n",
    "import random"
   ]
  },
  {
   "cell_type": "markdown",
   "id": "90c2718e",
   "metadata": {},
   "source": [
    "Implement and train a feed-forward neural network (also known as an \"MLP\" for \"multi-layer perceptron\") on a dataset called MNIST  and improve model \n",
    "generalization by achieving increased accuracy and decrease loss where model gains good confidence with the prediction"
   ]
  },
  {
   "cell_type": "code",
   "execution_count": 2,
   "id": "7bdea3c8-be11-49bb-aa2a-8b31599fbdba",
   "metadata": {},
   "outputs": [],
   "source": [
    "mnist = tf.keras.datasets.mnist\n",
    "(x_train, y_train), (x_test, y_test) = mnist.load_data()"
   ]
  },
  {
   "cell_type": "code",
   "execution_count": 3,
   "id": "5a9367a4-e060-48a0-9a4d-424f782da432",
   "metadata": {},
   "outputs": [],
   "source": [
    "#diving by 255 to get range between 0 to 1\n",
    "#pixel value range from 0 to 255\n",
    "#normalizing the image byy sclaing the pixel between range 0 to 1\n",
    "\n",
    "x_train = x_train/255\n",
    "x_test = x_test/255"
   ]
  },
  {
   "cell_type": "code",
   "execution_count": 4,
   "id": "e1031760-6776-4b70-b55e-c4eb826c12f1",
   "metadata": {},
   "outputs": [
    {
     "name": "stdout",
     "output_type": "stream",
     "text": [
      "Model: \"sequential\"\n",
      "_________________________________________________________________\n",
      " Layer (type)                Output Shape              Param #   \n",
      "=================================================================\n",
      " flatten (Flatten)           (None, 784)               0         \n",
      "                                                                 \n",
      " dense (Dense)               (None, 128)               100480    \n",
      "                                                                 \n",
      " dense_1 (Dense)             (None, 10)                1290      \n",
      "                                                                 \n",
      "=================================================================\n",
      "Total params: 101770 (397.54 KB)\n",
      "Trainable params: 101770 (397.54 KB)\n",
      "Non-trainable params: 0 (0.00 Byte)\n",
      "_________________________________________________________________\n"
     ]
    }
   ],
   "source": [
    "#Sequential() with a list of all the layers you want to stack together\n",
    "#relu as the activation function in the first dense layer and a softmax in the output layer.\n",
    "#The softmax function normalizes all outputs to sum to 1 and ensures that they are in the range [0, 1].\n",
    "\n",
    "\n",
    "\n",
    "#flatten layer- This layer flattens an input tensor without changing its values.\n",
    "#This layer flattens the 2D input (28x28) into a 1D vector of size 784. \n",
    "#This is typically done to convert the image data into a format that can be fed into a fully connected neural network.\n",
    "\n",
    "\n",
    "#dense layer - fully connected, It computes the weighted sum of the inputs, adds a bias, \n",
    "# and passes the output through an activation function. We are using the ReLU activation function for this example.\n",
    "\n",
    "\n",
    "\n",
    "model = keras.Sequential([\n",
    "keras.layers.Flatten(input_shape=(28,28)),         #input layer\n",
    "keras.layers.Dense(128, activation=\"relu\"),        #hidden layer\n",
    "keras.layers.Dense(10, activation=\"softmax\")       #output layer\n",
    "])\n",
    "model.summary()"
   ]
  },
  {
   "cell_type": "code",
   "execution_count": 5,
   "id": "924f1e17-ad36-4ea5-966e-3453319f8ecf",
   "metadata": {},
   "outputs": [],
   "source": [
    "#The optimization algorithm determines how the connection weights are updated \n",
    "#at each training step with respect to the given loss function. Because we have a multiclass classification problem, \n",
    "#the loss function we’ll use is categorical_crossentropy, coupled with the adam optimizer\n",
    "\n",
    "model.compile(optimizer=\"sgd\",              #stochastic Gradient Descent\n",
    "loss=\"sparse_categorical_crossentropy\",\n",
    "metrics=[\"accuracy\"])"
   ]
  },
  {
   "cell_type": "code",
   "execution_count": 6,
   "id": "4ca010e4-7718-4b9f-90f4-b082482c01a5",
   "metadata": {},
   "outputs": [
    {
     "name": "stdout",
     "output_type": "stream",
     "text": [
      "Epoch 1/11\n",
      "1875/1875 [==============================] - 7s 3ms/step - loss: 0.6571 - accuracy: 0.8314 - val_loss: 0.3539 - val_accuracy: 0.9050\n",
      "Epoch 2/11\n",
      "1875/1875 [==============================] - 5s 3ms/step - loss: 0.3373 - accuracy: 0.9046 - val_loss: 0.2911 - val_accuracy: 0.9187\n",
      "Epoch 3/11\n",
      "1875/1875 [==============================] - 6s 3ms/step - loss: 0.2877 - accuracy: 0.9186 - val_loss: 0.2585 - val_accuracy: 0.9289\n",
      "Epoch 4/11\n",
      "1875/1875 [==============================] - 5s 3ms/step - loss: 0.2569 - accuracy: 0.9273 - val_loss: 0.2332 - val_accuracy: 0.9356\n",
      "Epoch 5/11\n",
      "1875/1875 [==============================] - 5s 3ms/step - loss: 0.2339 - accuracy: 0.9338 - val_loss: 0.2198 - val_accuracy: 0.9376\n",
      "Epoch 6/11\n",
      "1875/1875 [==============================] - 6s 3ms/step - loss: 0.2148 - accuracy: 0.9396 - val_loss: 0.2001 - val_accuracy: 0.9429\n",
      "Epoch 7/11\n",
      "1875/1875 [==============================] - 6s 3ms/step - loss: 0.1989 - accuracy: 0.9443 - val_loss: 0.1866 - val_accuracy: 0.9458\n",
      "Epoch 8/11\n",
      "1875/1875 [==============================] - 6s 3ms/step - loss: 0.1853 - accuracy: 0.9484 - val_loss: 0.1760 - val_accuracy: 0.9487\n",
      "Epoch 9/11\n",
      "1875/1875 [==============================] - 5s 3ms/step - loss: 0.1737 - accuracy: 0.9512 - val_loss: 0.1648 - val_accuracy: 0.9510\n",
      "Epoch 10/11\n",
      "1875/1875 [==============================] - 6s 3ms/step - loss: 0.1634 - accuracy: 0.9541 - val_loss: 0.1564 - val_accuracy: 0.9539\n",
      "Epoch 11/11\n",
      "1875/1875 [==============================] - 6s 3ms/step - loss: 0.1542 - accuracy: 0.9572 - val_loss: 0.1490 - val_accuracy: 0.9566\n"
     ]
    }
   ],
   "source": [
    "#training the model\n",
    "##The fit() method returns a history object with detailed information regarding model training. \n",
    "#The history attribute is a dictionary object. \n",
    "\n",
    "\n",
    "history=model.fit(x_train, y_train, validation_data=(x_test, y_test), epochs=11)"
   ]
  },
  {
   "cell_type": "code",
   "execution_count": 7,
   "id": "140298d1-6efd-43f9-9b41-6aa6ee294b4b",
   "metadata": {},
   "outputs": [
    {
     "name": "stdout",
     "output_type": "stream",
     "text": [
      "313/313 [==============================] - 1s 2ms/step - loss: 0.1490 - accuracy: 0.9566\n",
      "Loss=0.149\n",
      "Accuracy=0.957\n"
     ]
    }
   ],
   "source": [
    "test_loss, test_acc=model.evaluate(x_test, y_test)\n",
    "print(\"Loss=%.3f\" %test_loss)\n",
    "print(\"Accuracy=%.3f\" %test_acc)"
   ]
  },
  {
   "cell_type": "code",
   "execution_count": 8,
   "id": "b8665e12-0896-4df4-9b7c-8531e2ed3488",
   "metadata": {},
   "outputs": [
    {
     "data": {
      "image/png": "[encoded data removed]",
      "text/plain": [
       "<Figure size 432x288 with 1 Axes>"
      ]
     },
     "metadata": {
      "needs_background": "light"
     },
     "output_type": "display_data"
    },
    {
     "name": "stdout",
     "output_type": "stream",
     "text": [
      "313/313 [==============================] - 1s 2ms/step\n"
     ]
    },
    {
     "data": {
      "image/png": "[encoded data removed]",
      "text/plain": [
       "<Figure size 432x288 with 1 Axes>"
      ]
     },
     "metadata": {
      "needs_background": "light"
     },
     "output_type": "display_data"
    }
   ],
   "source": [
    "n=random.randint(0,9999)\n",
    "plt.imshow(x_test[n])\n",
    "plt.show()\n",
    "predicted_value=model.predict(x_test)\n",
    "plt.imshow(x_test[n])\n",
    "plt.show()"
   ]
  },
  {
   "cell_type": "code",
   "execution_count": 9,
   "id": "f8a4c145-2c9a-47a8-9a70-98d811ed358a",
   "metadata": {},
   "outputs": [
    {
     "name": "stdout",
     "output_type": "stream",
     "text": [
      "Predicted Value:  [4.5916170e-04 6.6444750e-06 9.3200064e-01 3.4536611e-02 3.2519114e-03\n",
      " 2.5274217e-04 4.0100367e-05 1.8265240e-02 4.9193698e-04 1.0695069e-02]\n"
     ]
    }
   ],
   "source": [
    "print('Predicted Value: ', predicted_value[n])"
   ]
  },
  {
   "cell_type": "code",
   "execution_count": 10,
   "id": "4ddef109-b20e-4f80-b68d-82e01ee86d38",
   "metadata": {},
   "outputs": [
    {
     "data": {
      "image/png": "[encoded data removed]",
      "text/plain": [
       "<Figure size 432x288 with 1 Axes>"
      ]
     },
     "metadata": {
      "needs_background": "light"
     },
     "output_type": "display_data"
    }
   ],
   "source": [
    "plt.plot(history.history[\"accuracy\"])\n",
    "plt.plot(history.history[\"val_accuracy\"])\n",
    "plt.title('Model Accuracy')\n",
    "plt.ylabel('Accuracy')\n",
    "plt.xlabel('Epoch')\n",
    "plt.legend(['Train', 'Validation'], loc='center right')\n",
    "plt.show()"
   ]
  },
  {
   "cell_type": "code",
   "execution_count": 11,
   "id": "47d29d94-58d3-44e8-92e6-bf8ce9593410",
   "metadata": {},
   "outputs": [
    {
     "data": {
      "image/png": "[encoded data removed]",
      "text/plain": [
       "<Figure size 432x288 with 1 Axes>"
      ]
     },
     "metadata": {
      "needs_background": "light"
     },
     "output_type": "display_data"
    }
   ],
   "source": [
    "plt.plot(history.history[\"loss\"])\n",
    "plt.plot(history.history[\"val_loss\"])\n",
    "plt.title('Model Loss')\n",
    "plt.ylabel('Loss')\n",
    "plt.xlabel('Epoch')\n",
    "plt.legend(['Train', 'Validation'], loc='center right')\n",
    "plt.show()"
   ]
  },
  {
   "cell_type": "markdown",
   "id": "0034307b",
   "metadata": {},
   "source": [
    "With above code we can see that, throughout the epochs, our model accuracy increases and loss decreases that is good since our model gains confidence with our prediction\n",
    "This indicates the model is trained in a good way:\n",
    "1.\tThe two loss(loss and val_loss) are decreasing and the accuracy (accuracy and val_accuracy) increasing.\n",
    "2.\tThe val_accuracy is the measure of how good the model is predicting so, it is observed that the model is well trained after 10 epochs\n"
   ]
  }
 ],
 "metadata": {
  "kernelspec": {
   "display_name": "Python 3 (ipykernel)",
   "language": "python",
   "name": "python3"
  },
  "language_info": {
   "codemirror_mode": {
    "name": "ipython",
    "version": 3
   },
   "file_extension": ".py",
   "mimetype": "text/x-python",
   "name": "python",
   "nbconvert_exporter": "python",
   "pygments_lexer": "ipython3",
   "version": "3.9.5"
  }
 },
 "nbformat": 4,
 "nbformat_minor": 5
}
